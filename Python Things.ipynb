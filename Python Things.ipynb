{
 "cells": [
  {
   "cell_type": "code",
   "execution_count": 11,
   "metadata": {},
   "outputs": [
    {
     "name": "stdout",
     "output_type": "stream",
     "text": [
      "Hello world\n"
     ]
    }
   ],
   "source": [
    "print (\"Hello world\")"
   ]
  },
  {
   "cell_type": "code",
   "execution_count": 14,
   "metadata": {},
   "outputs": [
    {
     "name": "stdout",
     "output_type": "stream",
     "text": [
      "[1, 2, 3, 'swargam', 'hell']\n",
      "<class 'list'>\n",
      "1\n",
      "2\n",
      "3\n",
      "swargam\n",
      "hell\n",
      "swargam=5\n"
     ]
    }
   ],
   "source": [
    "#So you can have different types in list... and they  are mutable..\n",
    "d = [1,2,3,\"swargam\"]\n",
    "d.append(\"hell\")\n",
    "print (d)\n",
    "print (type(d))\n",
    "\n",
    "for t in d:\n",
    "    print (t)\n",
    "\n",
    "print(\"swargam=\"+str(5))"
   ]
  },
  {
   "cell_type": "code",
   "execution_count": 17,
   "metadata": {},
   "outputs": [
    {
     "name": "stdout",
     "output_type": "stream",
     "text": [
      "The value of a is 10 and the value of b is 20\n",
      "Enter a number or anything you like.10\n",
      "10\n"
     ]
    }
   ],
   "source": [
    "a,b = 10,20 #can define multiple values in a same line...\n",
    "print(\"The value of a is {} and the value of b is {}\".format(a,b))\n",
    "\n",
    "num = input(\"Enter a number or anything you like.\")\n",
    "print (num)"
   ]
  },
  {
   "cell_type": "code",
   "execution_count": 25,
   "metadata": {},
   "outputs": [
    {
     "name": "stdout",
     "output_type": "stream",
     "text": [
      "<class 'list'>\n",
      "[1, 2, 3, 4, 5]\n",
      "5\n",
      "[1, 2, 3, 4, 5, 6]\n",
      "[1, 2, 2, 3, 4, 5, 6]\n",
      "[1, 2, 3, 4, 5, 6]\n"
     ]
    }
   ],
   "source": [
    "##About list\n",
    "emptylist = []\n",
    "print(type(emptylist))\n",
    "\n",
    "#Length of a list\n",
    "listofnum = [1,2,3,4,5]\n",
    "print(listofnum)\n",
    "print(len(listofnum))\n",
    "\n",
    "#append to a list\n",
    "listofnum.append(6)\n",
    "print(listofnum)\n",
    "\n",
    "#insert to a list\n",
    "listofnum.insert(2,2)\n",
    "print(listofnum)\n",
    "\n",
    "#remove from list\n",
    "listofnum.remove(2)\n",
    "print(listofnum)\n",
    "\n",
    "\n"
   ]
  },
  {
   "cell_type": "code",
   "execution_count": 34,
   "metadata": {},
   "outputs": [
    {
     "name": "stdout",
     "output_type": "stream",
     "text": [
      "Hello man swargam\n",
      " This function just the trying out the doc string\n",
      "[1, 2, 3, 4, 5, 6]\n"
     ]
    }
   ],
   "source": [
    "#Functions in python\n",
    "\n",
    "def printthecode(name):\n",
    "    \"\"\" This function just the trying out the doc string\"\"\"\n",
    "    print(\"Hello man \" + str(name))\n",
    "\n",
    "printthecode(\"swargam\")\n",
    "print(printthecode.__doc__) #Printing the doc string for a function....\n",
    "\n"
   ]
  },
  {
   "cell_type": "code",
   "execution_count": 38,
   "metadata": {},
   "outputs": [
    {
     "name": "stdout",
     "output_type": "stream",
     "text": [
      "21\n",
      "The above function is used to sum the whole list .. and return us the summ...\n"
     ]
    }
   ],
   "source": [
    "#Trying to sum the list \n",
    "def sumlist(lst):#Keeing the __doc__ for every function is a good practice of programing...\n",
    "    \"\"\"The above function is used to sum the whole list .. and return us the summ...\"\"\"\n",
    "    _sum = 0\n",
    "    for i in lst:\n",
    "        _sum = _sum + i\n",
    "\n",
    "    return _sum\n",
    "\n",
    "\n",
    "print(sumlist(listofnum))\n",
    "print(sumlist.__doc__)\n"
   ]
  },
  {
   "cell_type": "code",
   "execution_count": 40,
   "metadata": {},
   "outputs": [
    {
     "name": "stdout",
     "output_type": "stream",
     "text": [
      "['__add__', '__class__', '__contains__', '__delattr__', '__delitem__', '__dir__', '__doc__', '__eq__', '__format__', '__ge__', '__getattribute__', '__getitem__', '__gt__', '__hash__', '__iadd__', '__imul__', '__init__', '__init_subclass__', '__iter__', '__le__', '__len__', '__lt__', '__mul__', '__ne__', '__new__', '__reduce__', '__reduce_ex__', '__repr__', '__reversed__', '__rmul__', '__setattr__', '__setitem__', '__sizeof__', '__str__', '__subclasshook__', 'append', 'clear', 'copy', 'count', 'extend', 'index', 'insert', 'pop', 'remove', 'reverse', 'sort']\n"
     ]
    }
   ],
   "source": [
    "print(dir(listofnum))"
   ]
  },
  {
   "cell_type": "code",
   "execution_count": 42,
   "metadata": {},
   "outputs": [
    {
     "name": "stdout",
     "output_type": "stream",
     "text": [
      "[1, 4, 9, 16, 25, 36]\n"
     ]
    }
   ],
   "source": [
    "#Find the square of every number in a list ...and return the square list..\n",
    "#Traditional way...\n",
    "square = []\n",
    "\n",
    "for num in listofnum:\n",
    "    square.append(num ** 2)\n",
    "\n",
    "print(square)"
   ]
  },
  {
   "cell_type": "code",
   "execution_count": 45,
   "metadata": {},
   "outputs": [
    {
     "name": "stdout",
     "output_type": "stream",
     "text": [
      "[1, 4, 9, 16, 25, 36]\n"
     ]
    }
   ],
   "source": [
    "#The map reduce way.. for doing this...\n",
    "def squarefunc(number):\n",
    "    return number ** 2\n",
    "\n",
    "squares = list(map(squarefunc,listofnum)) # We can write in single line..\n",
    "print (squares)"
   ]
  },
  {
   "cell_type": "code",
   "execution_count": 54,
   "metadata": {},
   "outputs": [
    {
     "name": "stdout",
     "output_type": "stream",
     "text": [
      "14\n",
      "[2, 4, 6]\n",
      "[1, 4, 9, 16, 25, 36]\n",
      "21\n"
     ]
    }
   ],
   "source": [
    "##Using the lambda functions every thing will be in the same line....simple and elegant code..\n",
    "double = lambda y:y*2 # the function name  = lambda argument : what it returns\n",
    "print (double(7))\n",
    "\n",
    "##Creating a list which contains only even numbers in a single line...\n",
    "evennum = list(filter(lambda y:(y%2 == 0), listofnum)) #In the above line lambda function is an anonymous function..\n",
    "print (evennum)\n",
    "\n",
    "\n",
    "##Creating al ist which contains square of the list.. \n",
    "squarelist = list(map(lambda x:x**2,listofnum)) #Elegant code in single line... \n",
    "print (squarelist)\n",
    "\n",
    "\n",
    "## Multiply the whole list.. \n",
    "from functools import reduce \n",
    "print(int(reduce(lambda x,y: x+y,listofnum)))\n",
    "\n",
    "\n"
   ]
  },
  {
   "cell_type": "code",
   "execution_count": 58,
   "metadata": {},
   "outputs": [
    {
     "name": "stdout",
     "output_type": "stream",
     "text": [
      "['__doc__', '__file__', '__loader__', '__name__', '__package__', '__spec__', 'acos', 'acosh', 'asin', 'asinh', 'atan', 'atan2', 'atanh', 'ceil', 'copysign', 'cos', 'cosh', 'degrees', 'e', 'erf', 'erfc', 'exp', 'expm1', 'fabs', 'factorial', 'floor', 'fmod', 'frexp', 'fsum', 'gamma', 'gcd', 'hypot', 'inf', 'isclose', 'isfinite', 'isinf', 'isnan', 'ldexp', 'lgamma', 'log', 'log10', 'log1p', 'log2', 'modf', 'nan', 'pi', 'pow', 'radians', 'remainder', 'sin', 'sinh', 'sqrt', 'tan', 'tanh', 'tau', 'trunc']\n",
      "This module is always available.  It provides access to the\n",
      "mathematical functions defined by the C standard.\n"
     ]
    }
   ],
   "source": [
    "import math\n",
    "print (dir(math))\n",
    "\n",
    "print (math.__doc__)"
   ]
  },
  {
   "cell_type": "code",
   "execution_count": 64,
   "metadata": {},
   "outputs": [
    {
     "name": "stdout",
     "output_type": "stream",
     "text": [
      "0\n",
      "1\n",
      "2\n",
      "3\n",
      "4\n",
      "5\n",
      "6\n",
      "7\n",
      "8\n",
      "9\n"
     ]
    }
   ],
   "source": [
    "import pdb\n",
    "def seq(n):\n",
    "    for i in range(n):\n",
    "        #pdb.set_trace() #With this we can ask the values of the variables in it..\n",
    "        print (i)\n",
    "seq(10)"
   ]
  },
  {
   "cell_type": "code",
   "execution_count": null,
   "metadata": {},
   "outputs": [],
   "source": []
  }
 ],
 "metadata": {
  "kernelspec": {
   "display_name": "Python 3",
   "language": "python",
   "name": "python3"
  },
  "language_info": {
   "codemirror_mode": {
    "name": "ipython",
    "version": 3
   },
   "file_extension": ".py",
   "mimetype": "text/x-python",
   "name": "python",
   "nbconvert_exporter": "python",
   "pygments_lexer": "ipython3",
   "version": "3.7.0"
  }
 },
 "nbformat": 4,
 "nbformat_minor": 2
}
